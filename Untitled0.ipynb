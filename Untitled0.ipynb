{
  "nbformat": 4,
  "nbformat_minor": 0,
  "metadata": {
    "colab": {
      "provenance": [],
      "authorship_tag": "ABX9TyMBNUwKePwTK4n+tDXunmRc",
      "include_colab_link": true
    },
    "kernelspec": {
      "name": "python3",
      "display_name": "Python 3"
    },
    "language_info": {
      "name": "python"
    }
  },
  "cells": [
    {
      "cell_type": "markdown",
      "metadata": {
        "id": "view-in-github",
        "colab_type": "text"
      },
      "source": [
        "<a href=\"https://colab.research.google.com/github/MirayAsma/VeriMadenili-iOdev/blob/main/Untitled0.ipynb\" target=\"_parent\"><img src=\"https://colab.research.google.com/assets/colab-badge.svg\" alt=\"Open In Colab\"/></a>"
      ]
    },
    {
      "cell_type": "code",
      "execution_count": 4,
      "metadata": {
        "colab": {
          "base_uri": "https://localhost:8080/",
          "height": 971
        },
        "id": "YgYsjPWakSMW",
        "outputId": "511f8249-e0ec-478f-bd5b-efd419a6a577"
      },
      "outputs": [
        {
          "output_type": "display_data",
          "data": {
            "text/plain": [
              "<Figure size 640x480 with 1 Axes>"
            ],
            "image/png": "[encoded data removed]"
          },
          "metadata": {}
        },
        {
          "output_type": "stream",
          "name": "stdout",
          "text": [
            "Alt sınır: -2.8224999999999945\n",
            "Üst sınır: 40.29749999999999\n",
            "     total_bill   tip     sex smoker   day    time  size\n",
            "0         16.99  1.01  Female     No   Sun  Dinner     2\n",
            "1         10.34  1.66    Male     No   Sun  Dinner     3\n",
            "2         21.01  3.50    Male     No   Sun  Dinner     3\n",
            "3         23.68  3.31    Male     No   Sun  Dinner     2\n",
            "4         24.59  3.61  Female     No   Sun  Dinner     4\n",
            "..          ...   ...     ...    ...   ...     ...   ...\n",
            "239       29.03  5.92    Male     No   Sat  Dinner     3\n",
            "240       27.18  2.00  Female    Yes   Sat  Dinner     2\n",
            "241       22.67  2.00    Male    Yes   Sat  Dinner     2\n",
            "242       17.82  1.75    Male     No   Sat  Dinner     2\n",
            "243       18.78  3.00  Female     No  Thur  Dinner     2\n",
            "\n",
            "[235 rows x 7 columns]\n",
            "     total_bill   tip     sex smoker   day    time  size\n",
            "0         16.99  1.01  Female     No   Sun  Dinner     2\n",
            "1         10.34  1.66    Male     No   Sun  Dinner     3\n",
            "2         21.01  3.50    Male     No   Sun  Dinner     3\n",
            "3         23.68  3.31    Male     No   Sun  Dinner     2\n",
            "4         24.59  3.61  Female     No   Sun  Dinner     4\n",
            "..          ...   ...     ...    ...   ...     ...   ...\n",
            "239       29.03  5.92    Male     No   Sat  Dinner     3\n",
            "240       27.18  2.00  Female    Yes   Sat  Dinner     2\n",
            "241       22.67  2.00    Male    Yes   Sat  Dinner     2\n",
            "242       17.82  1.75    Male     No   Sat  Dinner     2\n",
            "243       18.78  3.00  Female     No  Thur  Dinner     2\n",
            "\n",
            "[244 rows x 7 columns]\n"
          ]
        }
      ],
      "source": [
        "import pandas as pd\n",
        "import seaborn as sns\n",
        "import numpy as np\n",
        "import matplotlib.pyplot as plt # Veri setini yükleme\n",
        "df = sns.load_dataset('tips')\n",
        "df.head()\n",
        "# Aykırı değerleri görselleştirme\n",
        "sns.boxplot(x=df['total_bill'])\n",
        "plt.show()\n",
        "# Q1 (1. çeyrek) ve Q3 (3. çeyrek) hesaplama\n",
        "Q1 = df['total_bill'].quantile(0.25)\n",
        "Q3 = df['total_bill'].quantile(0.75)\n",
        "IQR = Q3 - Q1\n",
        "\n",
        "# Alt ve üst sınırları hesaplama\n",
        "alt_sinir = Q1 - 1.5 * IQR\n",
        "ust_sinir = Q3 + 1.5 * IQR\n",
        "\n",
        "print(\"Alt sınır:\", alt_sinir)\n",
        "print(\"Üst sınır:\", ust_sinir)\n",
        "\n",
        "# Aykırı değerleri tespit etme\n",
        "aykiri_degerler = (df['total_bill'] < alt_sinir) | (df['total_bill'] > ust_sinir)\n",
        "df[aykiri_degerler]\n",
        "# Aykırı değerleri silme\n",
        "temiz_veriler = df[~aykiri_degerler]\n",
        "print(temiz_veriler)\n",
        "\n",
        "# Alt sınırın altındaki değerleri alt sınıra eşitleme\n",
        "df.loc[df['total_bill'] < alt_sinir, 'total_bill'] = alt_sinir\n",
        "\n",
        "# Üst sınırın üstündeki değerleri üst sınıra eşitleme\n",
        "df.loc[df['total_bill'] > ust_sinir, 'total_bill'] = ust_sinir\n",
        "\n",
        "print(df)"
      ]
    }
  ]
}